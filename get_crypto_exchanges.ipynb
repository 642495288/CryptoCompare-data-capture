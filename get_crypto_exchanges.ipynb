{
 "cells": [
  {
   "cell_type": "code",
   "execution_count": 8,
   "metadata": {},
   "outputs": [],
   "source": [
    "import time\n",
    "import datetime\n",
    "import requests\n",
    "import pandas as pd\n",
    "import numpy as np"
   ]
  },
  {
   "cell_type": "code",
   "execution_count": 9,
   "metadata": {},
   "outputs": [],
   "source": [
    "# Get all available exchanges from cryptocompare.com as a json format\n",
    "def get_all_exchanges(apikey):\n",
    "    # Config data volumn parm\n",
    "    payload_volumn = {\n",
    "            \"api_key\": apikey,\n",
    "            }\n",
    "\n",
    "    # Get data total volumn\n",
    "    # Use ''/exchanges' to get exchanges list dataset\n",
    "    url_vol = \"https://min-api.cryptocompare.com/data/v4/all/exchanges\"\n",
    "\n",
    "    # Request data\n",
    "    result_volumn = requests.get(url_vol, params=payload_volumn).json()\n",
    "    return result_volumn['Data']['exchanges']"
   ]
  },
  {
   "cell_type": "code",
   "execution_count": 15,
   "metadata": {},
   "outputs": [],
   "source": [
    "# Convert json data into pandas dataframe\n",
    "def convert_json_to_dataframe(all_exchanges):\n",
    "    ex_data = pd.DataFrame(columns=('exchange','fsym','tsym','start','end'))\n",
    "    i = 0\n",
    "    # The following loops are used to parse and filter the data from json\n",
    "    for key, value in all_exchanges.items():\n",
    "        if value['isActive'] == True:\n",
    "            ex_name = key\n",
    "            for key, value in value['pairs'].items():\n",
    "                fsym = key\n",
    "                for key, vlaue in value['tsyms'].items():\n",
    "                    tsym = key\n",
    "                    try: \n",
    "                        start = value['tsyms'][key]['histo_minute_start_ts']\n",
    "                        end = value['tsyms'][key]['histo_minute_end_ts']\n",
    "                    except BaseException as e:\n",
    "                        start = ''\n",
    "                        end = ''\n",
    "                    # Get one exchange info\n",
    "                    ex_data =  ex_data.append([{'exchange':ex_name, 'fsym': fsym,'tsym':tsym, 'start':start, 'end':end}], ignore_index=True)\n",
    "    return ex_data"
   ]
  },
  {
   "cell_type": "code",
   "execution_count": 11,
   "metadata": {},
   "outputs": [],
   "source": [
    "# Drop some of exchanges which has no data recorded\n",
    "def drop_empty_values(data):\n",
    "    # Inorder to drop null row, replace empty value as nan,\n",
    "    # otherwise pandas do not recognise \"\" (a empty string which occur in dataset) as nan\n",
    "    data.replace(to_replace=r'^\\s*$',value=np.nan,regex=True,inplace=True)\n",
    "    data.dropna(axis=0, how='any', inplace=True)\n",
    "    return data"
   ]
  },
  {
   "cell_type": "code",
   "execution_count": 18,
   "metadata": {},
   "outputs": [],
   "source": [
    "# Main function\n",
    "# Get all available exchanges data, also reformat and clean data\n",
    "\n",
    "# Use your ApiKey\n",
    "apikey = '1bd6b034f5c37235fe86bd57125805ae1164b1f50aea15648073d27a3627b00e'\n",
    "\n",
    "# Get json format\n",
    "ex_json = get_all_exchanges(apikey)\n",
    "\n",
    "# Get dataframe\n",
    "ex_data = convert_json_to_dataframe(ex_json)\n",
    "\n",
    "# Clean data\n",
    "ex_data = drop_empty_values(ex_data)\n",
    "\n",
    "# Output .csv file\n",
    "ex_data.to_csv('all_ex2.csv')"
   ]
  }
 ],
 "metadata": {
  "kernelspec": {
   "display_name": "Python 3",
   "language": "python",
   "name": "python3"
  },
  "language_info": {
   "codemirror_mode": {
    "name": "ipython",
    "version": 3
   },
   "file_extension": ".py",
   "mimetype": "text/x-python",
   "name": "python",
   "nbconvert_exporter": "python",
   "pygments_lexer": "ipython3",
   "version": "3.7.3"
  }
 },
 "nbformat": 4,
 "nbformat_minor": 2
}
